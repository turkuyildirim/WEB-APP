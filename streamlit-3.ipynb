{
 "cells": [
  {
   "cell_type": "code",
   "execution_count": 31,
   "id": "f8c08479-8cde-418b-9bf0-1135a260a004",
   "metadata": {},
   "outputs": [
    {
     "name": "stdout",
     "output_type": "stream",
     "text": [
      "Requirement already satisfied: streamlit in /Users/turkuyildirim/anaconda3/lib/python3.11/site-packages (1.35.0)\n",
      "Requirement already satisfied: altair<6,>=4.0 in /Users/turkuyildirim/anaconda3/lib/python3.11/site-packages (from streamlit) (5.3.0)\n",
      "Requirement already satisfied: blinker<2,>=1.0.0 in /Users/turkuyildirim/anaconda3/lib/python3.11/site-packages (from streamlit) (1.8.2)\n",
      "Requirement already satisfied: cachetools<6,>=4.0 in /Users/turkuyildirim/anaconda3/lib/python3.11/site-packages (from streamlit) (5.3.3)\n",
      "Requirement already satisfied: click<9,>=7.0 in /Users/turkuyildirim/anaconda3/lib/python3.11/site-packages (from streamlit) (8.0.4)\n",
      "Requirement already satisfied: numpy<2,>=1.19.3 in /Users/turkuyildirim/anaconda3/lib/python3.11/site-packages (from streamlit) (1.24.3)\n",
      "Requirement already satisfied: packaging<25,>=16.8 in /Users/turkuyildirim/anaconda3/lib/python3.11/site-packages (from streamlit) (23.1)\n",
      "Requirement already satisfied: pandas<3,>=1.3.0 in /Users/turkuyildirim/anaconda3/lib/python3.11/site-packages (from streamlit) (2.0.3)\n",
      "Requirement already satisfied: pillow<11,>=7.1.0 in /Users/turkuyildirim/anaconda3/lib/python3.11/site-packages (from streamlit) (9.4.0)\n",
      "Requirement already satisfied: protobuf<5,>=3.20 in /Users/turkuyildirim/anaconda3/lib/python3.11/site-packages (from streamlit) (4.25.3)\n",
      "Requirement already satisfied: pyarrow>=7.0 in /Users/turkuyildirim/anaconda3/lib/python3.11/site-packages (from streamlit) (11.0.0)\n",
      "Requirement already satisfied: requests<3,>=2.27 in /Users/turkuyildirim/anaconda3/lib/python3.11/site-packages (from streamlit) (2.31.0)\n",
      "Requirement already satisfied: rich<14,>=10.14.0 in /Users/turkuyildirim/anaconda3/lib/python3.11/site-packages (from streamlit) (13.7.1)\n",
      "Requirement already satisfied: tenacity<9,>=8.1.0 in /Users/turkuyildirim/anaconda3/lib/python3.11/site-packages (from streamlit) (8.2.2)\n",
      "Requirement already satisfied: toml<2,>=0.10.1 in /Users/turkuyildirim/anaconda3/lib/python3.11/site-packages (from streamlit) (0.10.2)\n",
      "Requirement already satisfied: typing-extensions<5,>=4.3.0 in /Users/turkuyildirim/anaconda3/lib/python3.11/site-packages (from streamlit) (4.12.0)\n",
      "Requirement already satisfied: gitpython!=3.1.19,<4,>=3.0.7 in /Users/turkuyildirim/anaconda3/lib/python3.11/site-packages (from streamlit) (3.1.43)\n",
      "Requirement already satisfied: pydeck<1,>=0.8.0b4 in /Users/turkuyildirim/anaconda3/lib/python3.11/site-packages (from streamlit) (0.9.1)\n",
      "Requirement already satisfied: tornado<7,>=6.0.3 in /Users/turkuyildirim/anaconda3/lib/python3.11/site-packages (from streamlit) (6.3.2)\n",
      "Requirement already satisfied: jinja2 in /Users/turkuyildirim/anaconda3/lib/python3.11/site-packages (from altair<6,>=4.0->streamlit) (3.1.2)\n",
      "Requirement already satisfied: jsonschema>=3.0 in /Users/turkuyildirim/anaconda3/lib/python3.11/site-packages (from altair<6,>=4.0->streamlit) (4.17.3)\n",
      "Requirement already satisfied: toolz in /Users/turkuyildirim/anaconda3/lib/python3.11/site-packages (from altair<6,>=4.0->streamlit) (0.12.0)\n",
      "Requirement already satisfied: gitdb<5,>=4.0.1 in /Users/turkuyildirim/anaconda3/lib/python3.11/site-packages (from gitpython!=3.1.19,<4,>=3.0.7->streamlit) (4.0.11)\n",
      "Requirement already satisfied: python-dateutil>=2.8.2 in /Users/turkuyildirim/anaconda3/lib/python3.11/site-packages (from pandas<3,>=1.3.0->streamlit) (2.8.2)\n",
      "Requirement already satisfied: pytz>=2020.1 in /Users/turkuyildirim/anaconda3/lib/python3.11/site-packages (from pandas<3,>=1.3.0->streamlit) (2023.3.post1)\n",
      "Requirement already satisfied: tzdata>=2022.1 in /Users/turkuyildirim/anaconda3/lib/python3.11/site-packages (from pandas<3,>=1.3.0->streamlit) (2023.3)\n",
      "Requirement already satisfied: charset-normalizer<4,>=2 in /Users/turkuyildirim/anaconda3/lib/python3.11/site-packages (from requests<3,>=2.27->streamlit) (2.0.4)\n",
      "Requirement already satisfied: idna<4,>=2.5 in /Users/turkuyildirim/anaconda3/lib/python3.11/site-packages (from requests<3,>=2.27->streamlit) (3.4)\n",
      "Requirement already satisfied: urllib3<3,>=1.21.1 in /Users/turkuyildirim/anaconda3/lib/python3.11/site-packages (from requests<3,>=2.27->streamlit) (1.26.16)\n",
      "Requirement already satisfied: certifi>=2017.4.17 in /Users/turkuyildirim/anaconda3/lib/python3.11/site-packages (from requests<3,>=2.27->streamlit) (2023.7.22)\n",
      "Requirement already satisfied: markdown-it-py>=2.2.0 in /Users/turkuyildirim/anaconda3/lib/python3.11/site-packages (from rich<14,>=10.14.0->streamlit) (2.2.0)\n",
      "Requirement already satisfied: pygments<3.0.0,>=2.13.0 in /Users/turkuyildirim/anaconda3/lib/python3.11/site-packages (from rich<14,>=10.14.0->streamlit) (2.15.1)\n",
      "Requirement already satisfied: smmap<6,>=3.0.1 in /Users/turkuyildirim/anaconda3/lib/python3.11/site-packages (from gitdb<5,>=4.0.1->gitpython!=3.1.19,<4,>=3.0.7->streamlit) (5.0.1)\n",
      "Requirement already satisfied: MarkupSafe>=2.0 in /Users/turkuyildirim/anaconda3/lib/python3.11/site-packages (from jinja2->altair<6,>=4.0->streamlit) (2.1.1)\n",
      "Requirement already satisfied: attrs>=17.4.0 in /Users/turkuyildirim/anaconda3/lib/python3.11/site-packages (from jsonschema>=3.0->altair<6,>=4.0->streamlit) (22.1.0)\n",
      "Requirement already satisfied: pyrsistent!=0.17.0,!=0.17.1,!=0.17.2,>=0.14.0 in /Users/turkuyildirim/anaconda3/lib/python3.11/site-packages (from jsonschema>=3.0->altair<6,>=4.0->streamlit) (0.18.0)\n",
      "Requirement already satisfied: mdurl~=0.1 in /Users/turkuyildirim/anaconda3/lib/python3.11/site-packages (from markdown-it-py>=2.2.0->rich<14,>=10.14.0->streamlit) (0.1.0)\n",
      "Requirement already satisfied: six>=1.5 in /Users/turkuyildirim/anaconda3/lib/python3.11/site-packages (from python-dateutil>=2.8.2->pandas<3,>=1.3.0->streamlit) (1.16.0)\n",
      "Note: you may need to restart the kernel to use updated packages.\n"
     ]
    }
   ],
   "source": [
    "pip install streamlit"
   ]
  },
  {
   "cell_type": "code",
   "execution_count": 32,
   "id": "a247fc47-a5e2-4074-9bf8-987321fd823e",
   "metadata": {
    "tags": []
   },
   "outputs": [],
   "source": [
    "import pandas as pd\n",
    "import streamlit as st\n",
    "import pickle\n",
    "\n",
    "# Load the trained model\n",
    "with open(\"best_model.pkl\", 'rb') as model_file:\n",
    "    best_model = pickle.load(model_file)\n",
    "    \n",
    "    \n",
    "    \n",
    "# Streamlit app\n",
    "def main():\n",
    "    st.title(\"Bank Term Deposit Subscription Prediction\")\n",
    "\n",
    "    st.write(\"This app predicts whether a customer will subscribe to a term deposit based on their features.\")\n",
    "    \n",
    "    # Collect user input features into a dataframe\n",
    "    def user_input_features():\n",
    "        age = st.number_input(\"Age\", min_value=0, max_value=100, value=30)\n",
    "        job = st.selectbox(\"Job\", [\"admin.\", \"blue-collar\", \"entrepreneur\", \"housemaid\", \"management\", \"retired\", \"self-employed\", \"services\", \"student\", \"technician\", \"unemployed\", \"unknown\"])\n",
    "        marital = st.selectbox(\"Marital Status\", [\"divorced\", \"married\", \"single\", \"unknown\"])\n",
    "        education = st.selectbox(\"Education\", [\"basic.4y\", \"basic.6y\", \"basic.9y\", \"high.school\", \"illiterate\", \"professional.course\", \"university.degree\", \"unknown\"])\n",
    "        default = st.selectbox(\"Default\", [\"no\", \"yes\", \"unknown\"])\n",
    "        housing = st.selectbox(\"Housing\", [\"no\", \"yes\", \"unknown\"])\n",
    "        loan = st.selectbox(\"Loan\", [\"no\", \"yes\", \"unknown\"])\n",
    "        contact = st.selectbox(\"Contact\", [\"cellular\", \"telephone\"])\n",
    "        month = st.selectbox(\"Month\", [\"jan\", \"feb\", \"mar\", \"apr\", \"may\", \"jun\", \"jul\", \"aug\", \"sep\", \"oct\", \"nov\", \"dec\"])\n",
    "        day_of_week = st.selectbox(\"Day of Week\", [\"mon\", \"tue\", \"wed\", \"thu\", \"fri\"])\n",
    "        campaign = st.number_input(\"Campaign\", min_value=0, max_value=100, value=1)\n",
    "        previous = st.number_input(\"Previous\", min_value=0, max_value=100, value=0)\n",
    "        poutcome = st.selectbox(\"Poutcome\", [\"failure\", \"nonexistent\", \"success\"])\n",
    "        emp_var_rate = st.number_input(\"Emp Var Rate\", value=1.0)\n",
    "        cons_price_idx = st.number_input(\"Cons Price Index\", value=1.0)\n",
    "        cons_conf_idx = st.number_input(\"Cons Confidence Index\", value=-40.0)\n",
    "        euribor3m = st.number_input(\"Euribor 3 Month Rate\", value=1.0)\n",
    "        nr_employed = st.number_input(\"Number of Employees\", value=5000)\n",
    "\n",
    "        \n",
    "        # Predict function\n",
    "    def predict():\n",
    "        user_data = pd.DataFrame({\n",
    "            'age': [age],\n",
    "            'job': [job],\n",
    "            'marital': [marital],\n",
    "            'education': [education],\n",
    "            'default': [default],\n",
    "            'housing': [housing],\n",
    "            'loan': [loan],\n",
    "            'contact': [contact],\n",
    "            'month': [month],\n",
    "            'day_of_week': [day_of_week],\n",
    "            'campaign': [campaign],\n",
    "            'previous': [previous],\n",
    "            'poutcome': [poutcome],\n",
    "            'emp.var.rate': [emp_var_rate],\n",
    "            'cons.price.idx': [cons_price_idx],\n",
    "            'cons.conf.idx': [cons_conf_idx],\n",
    "            'euribor3m': [euribor3m],\n",
    "            'nr.employed': [nr_employed]\n",
    "        })\n",
    "    \n",
    "    model = joblib.load('best_model.pkl')\n",
    "    prediction = model.predict(user_data)\n",
    "    return 'Yes' if prediction == 1 else 'No'\n",
    "\n",
    "    # Display prediction\n",
    "    if st.button('Predict'):\n",
    "        result = predict()\n",
    "        st.write(f\"The client will subscribe a term deposit: {result}\")\n",
    "        \n",
    "    if __name__ == '__main__':\n",
    "        main()\n"
   ]
  },
  {
   "cell_type": "code",
   "execution_count": 35,
   "id": "a418043a-8a86-4686-9891-e9efd38ebbcf",
   "metadata": {},
   "outputs": [
    {
     "ename": "SyntaxError",
     "evalue": "invalid syntax (1801451533.py, line 1)",
     "output_type": "error",
     "traceback": [
      "\u001b[0;36m  Cell \u001b[0;32mIn[35], line 1\u001b[0;36m\u001b[0m\n\u001b[0;31m    python -m streamlit run your_script.py\u001b[0m\n\u001b[0m              ^\u001b[0m\n\u001b[0;31mSyntaxError\u001b[0m\u001b[0;31m:\u001b[0m invalid syntax\n"
     ]
    }
   ],
   "source": [
    "python -m streamlit run your_script.py"
   ]
  },
  {
   "cell_type": "code",
   "execution_count": 36,
   "id": "95f820ba-3f63-48e9-b522-b2650a4ddeb1",
   "metadata": {
    "tags": []
   },
   "outputs": [
    {
     "ename": "SyntaxError",
     "evalue": "invalid syntax (4054717884.py, line 1)",
     "output_type": "error",
     "traceback": [
      "\u001b[0;36m  Cell \u001b[0;32mIn[36], line 1\u001b[0;36m\u001b[0m\n\u001b[0;31m    streamlit run your_script.py\u001b[0m\n\u001b[0m              ^\u001b[0m\n\u001b[0;31mSyntaxError\u001b[0m\u001b[0;31m:\u001b[0m invalid syntax\n"
     ]
    }
   ],
   "source": [
    "streamlit run your_script.py"
   ]
  },
  {
   "cell_type": "code",
   "execution_count": null,
   "id": "9861897a-c4b9-4cd8-abd9-b99f2ee0d8e2",
   "metadata": {},
   "outputs": [],
   "source": []
  }
 ],
 "metadata": {
  "kernelspec": {
   "display_name": "Python 3 (ipykernel)",
   "language": "python",
   "name": "python3"
  },
  "language_info": {
   "codemirror_mode": {
    "name": "ipython",
    "version": 3
   },
   "file_extension": ".py",
   "mimetype": "text/x-python",
   "name": "python",
   "nbconvert_exporter": "python",
   "pygments_lexer": "ipython3",
   "version": "3.11.5"
  }
 },
 "nbformat": 4,
 "nbformat_minor": 5
}
